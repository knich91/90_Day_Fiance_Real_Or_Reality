{
 "cells": [
  {
   "cell_type": "markdown",
   "metadata": {},
   "source": [
    "# 1. Project Overview"
   ]
  },
  {
   "cell_type": "code",
   "execution_count": null,
   "metadata": {},
   "outputs": [],
   "source": [
    "import pandas as pd\n",
    "import requests\n",
    "import matplotlib.pyplot as plt\n",
    "import os"
   ]
  },
  {
   "cell_type": "markdown",
   "metadata": {},
   "source": [
    "# 2. Data Collection and Loading\n",
    "● Load Data: Use Pandas to load a dataset (CSV, Excel, or database).\n",
    "● Initial Check: Display the first few rows and basic information about the dataset, noting\n",
    "column names, types, and missing values.\n",
    "● Selection Options:\n",
    "○ Choose a dataset you find interesting (Video game sales, Sports stats, Carbon\n",
    "emissions, etc.).\n",
    "○ Choose which columns or data to focus on and drop the rest."
   ]
  },
  {
   "cell_type": "code",
   "execution_count": null,
   "metadata": {},
   "outputs": [],
   "source": [
    "tlc_data = pd.read_csv(r\"C:\\Users\\kymbe\\OneDrive\\Documents\\Projects\\Capstone\\90_Day_Fiance_Real_Or_Reality\\Data Sets\\90 Day Fiance Data - Sheet1.csv\")\n",
    "tlc_data.head()"
   ]
  },
  {
   "cell_type": "code",
   "execution_count": null,
   "metadata": {},
   "outputs": [],
   "source": [
    "us_census_2023 = pd.read_csv(r'C:\\Users\\kymbe\\OneDrive\\Documents\\Projects\\Capstone\\90_Day_Fiance_Real_Or_Reality\\Data Sets\\ACSST5Y2023.S1201-2025-02-04T234224.csv')\n",
    "us_census_2023.head()"
   ]
  },
  {
   "cell_type": "code",
   "execution_count": null,
   "metadata": {},
   "outputs": [],
   "source": [
    "nonimm_visa_oct_24 = pd.read_csv(r'C:\\Users\\kymbe\\OneDrive\\Documents\\Projects\\Capstone\\90_Day_Fiance_Real_Or_Reality\\Data Sets\\OCTOBER 2024 - NIV Issuances by Nationality and Visa Class.xlsx - Sheet1.csv')\n",
    "nonimm_visa_oct_24.head()"
   ]
  },
  {
   "cell_type": "markdown",
   "metadata": {},
   "source": [
    "# 3. Data Cleaning and Preparation\n"
   ]
  },
  {
   "cell_type": "code",
   "execution_count": null,
   "metadata": {},
   "outputs": [],
   "source": []
  },
  {
   "cell_type": "markdown",
   "metadata": {},
   "source": [
    "# 4. Exploratory Data Analysis (EDA)\n"
   ]
  },
  {
   "cell_type": "code",
   "execution_count": null,
   "metadata": {},
   "outputs": [],
   "source": [
    "#write a function that shows % of 90 Day couples that did get married, and % of couples that are still together "
   ]
  },
  {
   "cell_type": "code",
   "execution_count": null,
   "metadata": {},
   "outputs": [],
   "source": [
    "# create a graph of how they met "
   ]
  },
  {
   "cell_type": "code",
   "execution_count": null,
   "metadata": {},
   "outputs": [],
   "source": [
    "#Does having support of friends and family influence if they are still together? "
   ]
  },
  {
   "cell_type": "code",
   "execution_count": null,
   "metadata": {},
   "outputs": [],
   "source": [
    "# % of US spouse being male or female influence? "
   ]
  },
  {
   "cell_type": "code",
   "execution_count": null,
   "metadata": {},
   "outputs": [],
   "source": [
    "#Does age influence if they are still together?"
   ]
  },
  {
   "cell_type": "code",
   "execution_count": null,
   "metadata": {},
   "outputs": [],
   "source": [
    "# write a function that compares total US census to 90 Day Fiance Still Together Y or N"
   ]
  },
  {
   "cell_type": "code",
   "execution_count": null,
   "metadata": {},
   "outputs": [],
   "source": [
    "#write a function that compares state statistics to the 90 day couple(s) Still together Y or N"
   ]
  },
  {
   "cell_type": "code",
   "execution_count": null,
   "metadata": {},
   "outputs": [],
   "source": [
    "#write a function that compares foreign country in 90 Day to the K1 petitions in nonimmigrant visa"
   ]
  }
 ],
 "metadata": {
  "kernelspec": {
   "display_name": "Python 3",
   "language": "python",
   "name": "python3"
  },
  "language_info": {
   "codemirror_mode": {
    "name": "ipython",
    "version": 3
   },
   "file_extension": ".py",
   "mimetype": "text/x-python",
   "name": "python",
   "nbconvert_exporter": "python",
   "pygments_lexer": "ipython3",
   "version": "3.11.9"
  }
 },
 "nbformat": 4,
 "nbformat_minor": 2
}
