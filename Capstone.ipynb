{
 "cells": [
  {
   "cell_type": "markdown",
   "metadata": {},
   "source": [
    "# 1. Project Overview"
   ]
  },
  {
   "cell_type": "code",
   "execution_count": null,
   "metadata": {},
   "outputs": [],
   "source": [
    "import pandas as pd\n",
    "import requests\n",
    "import matplotlib.pyplot as plt\n",
    "import os"
   ]
  },
  {
   "cell_type": "markdown",
   "metadata": {},
   "source": [
    "# 2. Data Collection and Loading\n",
    "* Load Data: Use Pandas to load a dataset (CSV, Excel, or database).\n",
    "* Initial Check: Display the first few rows and basic information about the dataset, noting\n",
    "column names, types, and missing values.\n",
    "* Choose which columns or data to focus on and drop the rest."
   ]
  },
  {
   "cell_type": "code",
   "execution_count": null,
   "metadata": {},
   "outputs": [],
   "source": [
    "tlc_data = pd.read_csv(r\"C:\\Users\\kymbe\\OneDrive\\Documents\\Projects\\Capstone\\90_Day_Fiance_Real_Or_Reality\\Data Sets\\90 Day Fiance Data - Sheet1.csv\")\n",
    "tlc_data.head()"
   ]
  },
  {
   "cell_type": "code",
   "execution_count": null,
   "metadata": {},
   "outputs": [],
   "source": [
    "us_census_2023 = pd.read_csv(r'C:\\Users\\kymbe\\OneDrive\\Documents\\Projects\\Capstone\\90_Day_Fiance_Real_Or_Reality\\Data Sets\\ACSST5Y2023.S1201-2025-02-04T234224.csv')\n",
    "us_census_2023.head()"
   ]
  },
  {
   "cell_type": "code",
   "execution_count": null,
   "metadata": {},
   "outputs": [],
   "source": [
    "nonimm_visa_oct_24 = pd.read_csv(r'C:\\Users\\kymbe\\OneDrive\\Documents\\Projects\\Capstone\\90_Day_Fiance_Real_Or_Reality\\Data Sets\\OCTOBER 2024 - NIV Issuances by Nationality and Visa Class.xlsx - Sheet1.csv')\n",
    "nonimm_visa_oct_24.head()"
   ]
  },
  {
   "cell_type": "markdown",
   "metadata": {},
   "source": [
    "# 3. Data Cleaning and Preparation\n"
   ]
  },
  {
   "cell_type": "code",
   "execution_count": null,
   "metadata": {},
   "outputs": [],
   "source": []
  },
  {
   "cell_type": "markdown",
   "metadata": {},
   "source": [
    "# 4. Exploratory Data Analysis (EDA)\n"
   ]
  },
  {
   "cell_type": "markdown",
   "metadata": {},
   "source": [
    "### Analyzing 90 Day Fiance Couples Outcomes \n",
    "Number of total couples from seasons 1-10 of '90 Day Fiance' and out of the total couples, how many did get married on their season and how many are still together as of current Jan 2025 sources. "
   ]
  },
  {
   "cell_type": "code",
   "execution_count": null,
   "metadata": {},
   "outputs": [],
   "source": [
    "#Define a function analyze_couples_outcomes\n",
    "#the DataFrame containing 90 Day Fiancé data.\n",
    "#Data Preparation\n",
    "#Ensure the DataFrame has relevant columns:\n",
    "#couple_id (unique identifier for each couple)\n",
    "#got_married (boolean or categorical: Yes/No)\n",
    "#still_together (boolean or categorical: Yes/No)\n",
    "#Count Total Couples\n",
    "#Get the total number of couples:\n",
    "#total_couples = len(df_90df['couple_id'].unique())\n",
    "#Count Married Couples\n",
    "#Filter rows where got_married == 'Yes' or True.\n",
    "#married_couples = df_90df[df_90df['got_married'] == 'Yes']\n",
    "#Count the number of married couples:\n",
    "#num_married_couples = len(married_couples['couple_id'].unique())\n",
    "#Count Couples Still Together\n",
    "#Filter rows where still_together == 'Yes' or True.\n",
    "#still_together_couples = df_90df[df_90df['still_together'] == 'Yes']\n",
    "#Count the number of couples still together:\n",
    "#num_still_together = len(still_together_couples['couple_id'].unique())\n",
    "#Return Results\n",
    "#Return a dictionary with:\n",
    "#Total couples\n",
    "#Number of married couples\n",
    "#Number of couples still together\n",
    "#Function Call (Optional)\n",
    "#Call the function with your DataFrame and print results:\n",
    "#results = analyze_couples_outcomes(df_90df)\n",
    "#print(results)\n"
   ]
  },
  {
   "cell_type": "markdown",
   "metadata": {},
   "source": [
    "### Visualizing the ways in each couple met"
   ]
  },
  {
   "cell_type": "code",
   "execution_count": null,
   "metadata": {},
   "outputs": [],
   "source": [
    "# create a graph of how they met \n",
    "#Define a function plot_how_couples_met(df_90df)\n",
    "#df_90df is the DataFrame containing 90 Day Fiancé data.\n",
    "#Data Preparation\n",
    "#Ensure the DataFrame has a column named how_met (or similar) that describes how each couple met (e.g., online, vacation, mutual friends).\n",
    "#Check for missing or null values in the how_met column and handle them:\n",
    "#Replace nulls with 'Unknown' or drop rows with missing data if appropriate.\n",
    "#Data Aggregation\n",
    "#Count the occurrences of each unique value in the how_met column:\n",
    "#how_met_counts = df_90df['how_met'].value_counts()\n",
    "#Plotting the Pie Chart\n",
    "#Use matplotlib.pyplot to create the pie chart:\n",
    "#plt.pie(how_met_counts, labels=how_met_counts.index, autopct='%1.1f%%', startangle=140)\n",
    "#Add a title to the pie chart:\n",
    "#plt.title('How 90 Day Fiancé Couples Met')\n",
    "#Display the Chart\n",
    "#Ensure the chart is displayed properly:\n",
    "#plt.axis('equal') to keep the pie chart circular.\n",
    "#plt.show() to render the chart.\n",
    "#Function Call (Optional)\n",
    "#Call the function with your DataFrame:\n",
    "#plot_how_couples_met(df_90df)\n"
   ]
  },
  {
   "cell_type": "markdown",
   "metadata": {},
   "source": [
    "### Does support of family and friends on the show influence if the couples got married and are still together?"
   ]
  },
  {
   "cell_type": "code",
   "execution_count": null,
   "metadata": {},
   "outputs": [],
   "source": [
    "#Does having support of friends and family influence if they are still together? \n",
    "#Define a function plot_support_vs_marriage(df_90df)\n",
    "#df_90df is the DataFrame containing 90 Day Fiancé data.\n",
    "#Data Preparation\n",
    "#Ensure the DataFrame has the following columns:\n",
    "#support_from_family_friends (boolean or categorical: Yes/No)\n",
    "#got_married (boolean or categorical: Yes/No)\n",
    "#Check for missing values and handle them if necessary:\n",
    "#Replace nulls with 'Unknown' or drop rows with missing data.\n",
    "#Data Aggregation\n",
    "#Group the data by support_from_family_friends and got_married.\n",
    "#grouped_data = df_90df.groupby(['support_from_family_friends', 'got_married']).size().unstack(fill_value=0)\n",
    "#This creates a matrix where rows represent support (Yes/No) and columns represent marital status (Yes/No).\n",
    "#Plotting the Split Bar Graph\n",
    "#Use matplotlib.pyplot to create the grouped bar chart:\n",
    "#Define the position of bars using numpy.arange() for side-by-side bars.\n",
    "#Plot bars for got_married == 'Yes' and got_married == 'No'.\n",
    "#Set different colors for each marital status.\n",
    "#Customize the Graph\n",
    "#Add labels for axes:\n",
    "#X-axis: 'Support from Friends/Family'\n",
    "#Y-axis: 'Number of Couples'\n",
    "#Add a legend for marital status:\n",
    "#'Married' and 'Not Married'\n",
    "#Add a title to the graph:\n",
    "#'Impact of Support from Friends/Family on Marital Status'\n",
    "#Display the Graph\n",
    "#Use plt.show() to render the graph.\n",
    "#Function Call (Optional)\n",
    "#Call the function with your DataFrame:\n",
    "#plot_support_vs_marriage(df_90df)"
   ]
  },
  {
   "cell_type": "markdown",
   "metadata": {},
   "source": [
    "### How much does the US partner's gender have influencer in being together still?\n",
    "How many that are still together where the US partner is male vs the US partner is female?"
   ]
  },
  {
   "cell_type": "code",
   "execution_count": null,
   "metadata": {},
   "outputs": [],
   "source": [
    "# % of US spouse being male or female influence? \n",
    "#Define a function calculate_us_partner_still_together_percentage(df_90df)\n",
    "#df_90df is the DataFrame containing 90 Day Fiancé couples data.\n",
    "#Check for Required Columns\n",
    "#Ensure the DataFrame contains the following columns:\n",
    "#'us_partner_gender' (values: 'Male', 'Female')\n",
    "#'still_together' (values: 'Yes', 'No')\n",
    "#Data Filtering\n",
    "#Filter the DataFrame for rows where 'still_together' == 'Yes'.\n",
    "#Calculate Counts\n",
    "#Count the total number of US partners who are male.\n",
    "#Count the total number of US partners who are female.\n",
    "#Count the number of US partners who are male and still together.\n",
    "#Count the number of US partners who are female and still together.\n",
    "#Calculate Percentages\n",
    "#For male US partners:\n",
    "#(Number of male US partners still together / Total male US partners) * 100\n",
    "#For female US partners:\n",
    "#(Number of female US partners still together / Total female US partners) * 100\n",
    "#Return Results\n",
    "#Return a dictionary with the percentages:\n",
    "#'Male US Partners Still Together (%)'\n",
    "#'Female US Partners Still Together (%)'\n",
    "#Function Call (Optional)\n",
    "#Call the function with your DataFrame:\n",
    "#calculate_us_partner_still_together_percentage(df_90df)"
   ]
  },
  {
   "cell_type": "markdown",
   "metadata": {},
   "source": [
    "### Does age of couple or age gaps in between couples influence if they are still together?\n",
    "Can **I** even figure out a function to determine age gaps?"
   ]
  },
  {
   "cell_type": "code",
   "execution_count": null,
   "metadata": {},
   "outputs": [],
   "source": [
    "#Does age influence if they are still together?"
   ]
  },
  {
   "cell_type": "code",
   "execution_count": null,
   "metadata": {},
   "outputs": [],
   "source": [
    "# write a function that compares total US census to 90 Day Fiance Still Together Y or N"
   ]
  },
  {
   "cell_type": "code",
   "execution_count": null,
   "metadata": {},
   "outputs": [],
   "source": [
    "#write a function that compares state statistics to the 90 day couple(s) Still together Y or N"
   ]
  },
  {
   "cell_type": "code",
   "execution_count": null,
   "metadata": {},
   "outputs": [],
   "source": [
    "#write a function that compares foreign country in 90 Day to the K1 petitions in nonimmigrant visa"
   ]
  }
 ],
 "metadata": {
  "kernelspec": {
   "display_name": "Python 3",
   "language": "python",
   "name": "python3"
  },
  "language_info": {
   "codemirror_mode": {
    "name": "ipython",
    "version": 3
   },
   "file_extension": ".py",
   "mimetype": "text/x-python",
   "name": "python",
   "nbconvert_exporter": "python",
   "pygments_lexer": "ipython3",
   "version": "3.11.9"
  }
 },
 "nbformat": 4,
 "nbformat_minor": 2
}
